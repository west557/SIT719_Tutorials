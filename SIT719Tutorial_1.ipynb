{
  "nbformat": 4,
  "nbformat_minor": 0,
  "metadata": {
    "colab": {
      "name": "SIT719Tutorial_1.ipynb",
      "provenance": [],
      "collapsed_sections": [],
      "authorship_tag": "ABX9TyOkGApDu0bzmi9Rn8fol91l",
      "include_colab_link": true
    },
    "kernelspec": {
      "name": "python3",
      "display_name": "Python 3"
    },
    "language_info": {
      "name": "python"
    }
  },
  "cells": [
    {
      "cell_type": "markdown",
      "metadata": {
        "id": "view-in-github",
        "colab_type": "text"
      },
      "source": [
        "<a href=\"https://colab.research.google.com/github/west557/SIT719_Tutorials/blob/main/SIT719Tutorial_1.ipynb\" target=\"_parent\"><img src=\"https://colab.research.google.com/assets/colab-badge.svg\" alt=\"Open In Colab\"/></a>"
      ]
    },
    {
      "cell_type": "code",
      "metadata": {
        "colab": {
          "base_uri": "https://localhost:8080/"
        },
        "id": "tyZsKcG6Bgzc",
        "outputId": "93a16a35-fa9a-440e-e11f-77a0b0b3e271"
      },
      "source": [
        "#My first python program. \n",
        "print('Hello World')\n"
      ],
      "execution_count": null,
      "outputs": [
        {
          "output_type": "stream",
          "text": [
            "Hello World\n"
          ],
          "name": "stdout"
        }
      ]
    },
    {
      "cell_type": "code",
      "metadata": {
        "colab": {
          "base_uri": "https://localhost:8080/"
        },
        "id": "1CrxPP4CCDbe",
        "outputId": "e320fb8d-a070-4033-d2fc-f87c3d05c944"
      },
      "source": [
        "# Assign a string to a variable \n",
        "text = 'Hello, World!'\n",
        "print(text)"
      ],
      "execution_count": null,
      "outputs": [
        {
          "output_type": "stream",
          "text": [
            "Hello, World!\n"
          ],
          "name": "stdout"
        }
      ]
    },
    {
      "cell_type": "code",
      "metadata": {
        "colab": {
          "base_uri": "https://localhost:8080/"
        },
        "id": "vgZ6McnfOrtH",
        "outputId": "780386d1-938f-454d-a4a6-b3ed276e3eed"
      },
      "source": [
        "# Double quotation marks work the same as single quotation marks. \n",
        "question = \"What's your name?\"\n",
        "print(question)"
      ],
      "execution_count": 2,
      "outputs": [
        {
          "output_type": "stream",
          "text": [
            "What's your name?\n"
          ],
          "name": "stdout"
        }
      ]
    },
    {
      "cell_type": "code",
      "metadata": {
        "id": "E9Jz-kY7O67i",
        "colab": {
          "base_uri": "https://localhost:8080/"
        },
        "outputId": "7f328edb-0f90-4006-eeda-bd0217bc7b63"
      },
      "source": [
        "# An alternative to the quotation marks. \n",
        "text = '\"What is the problem?\", he asked.'\n",
        "print(text)"
      ],
      "execution_count": null,
      "outputs": [
        {
          "output_type": "stream",
          "text": [
            "\"What is the problem?\", he asked.\n"
          ],
          "name": "stdout"
        }
      ]
    },
    {
      "cell_type": "code",
      "metadata": {
        "colab": {
          "base_uri": "https://localhost:8080/",
          "height": 105
        },
        "id": "iWt7uwnsa5Mi",
        "outputId": "5d7ceec3-877b-47f1-dacb-e38fd342daf9"
      },
      "source": [
        "multiline = \"\"\"This is a multiline quote. Line 1\n",
        "Second Line for the quote. \n",
        "And, then the final line for the quote.\"\"\"\n",
        "print(multiline)\n",
        "multiline"
      ],
      "execution_count": 4,
      "outputs": [
        {
          "output_type": "stream",
          "text": [
            "This is a multiline quote. Line 1\n",
            "Second Line for the quote. \n",
            "And, then the final line for the quote.\n"
          ],
          "name": "stdout"
        },
        {
          "output_type": "execute_result",
          "data": {
            "application/vnd.google.colaboratory.intrinsic+json": {
              "type": "string"
            },
            "text/plain": [
              "'This is a multiline quote. Line 1\\nSecond Line for the quote. \\nAnd, then the final line for the quote.'"
            ]
          },
          "metadata": {
            "tags": []
          },
          "execution_count": 4
        }
      ]
    },
    {
      "cell_type": "code",
      "metadata": {
        "colab": {
          "base_uri": "https://localhost:8080/"
        },
        "id": "v-C-FYYabgBz",
        "outputId": "fe51d76b-11a1-4a33-d036-ee7ef34d65df"
      },
      "source": [
        "string = 'What\\'s your name?'\n",
        "print(string)"
      ],
      "execution_count": 8,
      "outputs": [
        {
          "output_type": "stream",
          "text": [
            "What's your name?\n"
          ],
          "name": "stdout"
        }
      ]
    },
    {
      "cell_type": "code",
      "metadata": {
        "colab": {
          "base_uri": "https://localhost:8080/"
        },
        "id": "rSQpYmiKby35",
        "outputId": "aed341a7-9ccb-4309-8de4-3469b62c3e43"
      },
      "source": [
        "path = 'c:\\\\windows\\\\temp'\n",
        "print(path)"
      ],
      "execution_count": 9,
      "outputs": [
        {
          "output_type": "stream",
          "text": [
            "c:\\windows\\temp\n"
          ],
          "name": "stdout"
        }
      ]
    },
    {
      "cell_type": "code",
      "metadata": {
        "colab": {
          "base_uri": "https://localhost:8080/"
        },
        "id": "xGsMJykdb-jj",
        "outputId": "c427adc6-a94d-45cc-c909-934ab7571ac3"
      },
      "source": [
        "multiline = 'I am writing the first line in a quote. \\nThis is the second line \\nThis is the third line.'\n",
        "print(multiline)"
      ],
      "execution_count": 12,
      "outputs": [
        {
          "output_type": "stream",
          "text": [
            "I am writing the first line in a quote. \n",
            "This is the second line \n",
            "This is the third line.\n"
          ],
          "name": "stdout"
        }
      ]
    },
    {
      "cell_type": "code",
      "metadata": {
        "colab": {
          "base_uri": "https://localhost:8080/"
        },
        "id": "cRRRRqwPceqk",
        "outputId": "59b3ea04-8c96-4f55-aa8f-fcca1a361c25"
      },
      "source": [
        "print('Scott is the ' + 'silliest ' * 3 + '. He likes cuddles.')"
      ],
      "execution_count": 16,
      "outputs": [
        {
          "output_type": "stream",
          "text": [
            "Scott is the silliest silliest silliest . He likes cuddles.\n"
          ],
          "name": "stdout"
        }
      ]
    },
    {
      "cell_type": "code",
      "metadata": {
        "colab": {
          "base_uri": "https://localhost:8080/"
        },
        "id": "_D1wM8sxc4o0",
        "outputId": "11124640-c20c-40c0-be8c-0959ca097c1c"
      },
      "source": [
        "# Example of using multiple variables to write a greeting. \n",
        "name = 'Scott'\n",
        "greeting = 'Good Morning'\n",
        "print(greeting + ', ' + name + '!')"
      ],
      "execution_count": 18,
      "outputs": [
        {
          "output_type": "stream",
          "text": [
            "Good Morning, Scott!\n"
          ],
          "name": "stdout"
        }
      ]
    },
    {
      "cell_type": "code",
      "metadata": {
        "colab": {
          "base_uri": "https://localhost:8080/"
        },
        "id": "jiqa6s7ldTcc",
        "outputId": "4c0660d8-b844-49e4-fb48-7b1d72a5310b"
      },
      "source": [
        "# A section on number examples. \n",
        "15/4"
      ],
      "execution_count": 24,
      "outputs": [
        {
          "output_type": "execute_result",
          "data": {
            "text/plain": [
              "3.75"
            ]
          },
          "metadata": {
            "tags": []
          },
          "execution_count": 24
        }
      ]
    },
    {
      "cell_type": "code",
      "metadata": {
        "colab": {
          "base_uri": "https://localhost:8080/"
        },
        "id": "gYLHJ4zAeEze",
        "outputId": "aa27d3f7-f72a-41a9-ec06-a496f10281ca"
      },
      "source": [
        "14 % 5"
      ],
      "execution_count": 28,
      "outputs": [
        {
          "output_type": "execute_result",
          "data": {
            "text/plain": [
              "4"
            ]
          },
          "metadata": {
            "tags": []
          },
          "execution_count": 28
        }
      ]
    },
    {
      "cell_type": "code",
      "metadata": {
        "colab": {
          "base_uri": "https://localhost:8080/"
        },
        "id": "rcwZSFafd1c9",
        "outputId": "c19c05b8-cc78-4405-ca82-298b1393e9d2"
      },
      "source": [
        "14//5"
      ],
      "execution_count": 26,
      "outputs": [
        {
          "output_type": "execute_result",
          "data": {
            "text/plain": [
              "2"
            ]
          },
          "metadata": {
            "tags": []
          },
          "execution_count": 26
        }
      ]
    },
    {
      "cell_type": "code",
      "metadata": {
        "colab": {
          "base_uri": "https://localhost:8080/"
        },
        "id": "hTyxk8aLesxC",
        "outputId": "a6185b64-6599-4191-b0c7-820274d6e678"
      },
      "source": [
        "2 + 3 * 4"
      ],
      "execution_count": 29,
      "outputs": [
        {
          "output_type": "execute_result",
          "data": {
            "text/plain": [
              "14"
            ]
          },
          "metadata": {
            "tags": []
          },
          "execution_count": 29
        }
      ]
    },
    {
      "cell_type": "code",
      "metadata": {
        "colab": {
          "base_uri": "https://localhost:8080/"
        },
        "id": "GANSh36bewFB",
        "outputId": "06136406-2b82-403b-c6f7-f252cef23e2d"
      },
      "source": [
        "3 **2 + 9"
      ],
      "execution_count": 30,
      "outputs": [
        {
          "output_type": "execute_result",
          "data": {
            "text/plain": [
              "18"
            ]
          },
          "metadata": {
            "tags": []
          },
          "execution_count": 30
        }
      ]
    },
    {
      "cell_type": "code",
      "metadata": {
        "colab": {
          "base_uri": "https://localhost:8080/"
        },
        "id": "v5inI4kHe1qs",
        "outputId": "fe514d7e-2c67-4654-e931-ce3b425b5788"
      },
      "source": [
        "-(9+2) -9"
      ],
      "execution_count": 31,
      "outputs": [
        {
          "output_type": "execute_result",
          "data": {
            "text/plain": [
              "-20"
            ]
          },
          "metadata": {
            "tags": []
          },
          "execution_count": 31
        }
      ]
    },
    {
      "cell_type": "code",
      "metadata": {
        "colab": {
          "base_uri": "https://localhost:8080/"
        },
        "id": "QY0gGT5-fDL-",
        "outputId": "a9ba57b4-5222-4f42-fb38-3f6834425eeb"
      },
      "source": [
        "x = 3\n",
        "y = 2\n",
        "sum = x + y\n",
        "sum\n",
        "x * y"
      ],
      "execution_count": 39,
      "outputs": [
        {
          "output_type": "execute_result",
          "data": {
            "text/plain": [
              "6"
            ]
          },
          "metadata": {
            "tags": []
          },
          "execution_count": 39
        }
      ]
    },
    {
      "cell_type": "code",
      "metadata": {
        "colab": {
          "base_uri": "https://localhost:8080/"
        },
        "id": "aAA4SprEfd6m",
        "outputId": "63290140-4757-4548-ed88-35cb97749264"
      },
      "source": [
        "x = 2\n",
        "x *= 3\n",
        "x"
      ],
      "execution_count": 40,
      "outputs": [
        {
          "output_type": "execute_result",
          "data": {
            "text/plain": [
              "6"
            ]
          },
          "metadata": {
            "tags": []
          },
          "execution_count": 40
        }
      ]
    },
    {
      "cell_type": "code",
      "metadata": {
        "colab": {
          "base_uri": "https://localhost:8080/"
        },
        "id": "rsUKGE1Kfsp5",
        "outputId": "5df0c7e0-0cfb-472b-b642-62190b99cf4f"
      },
      "source": [
        "#Data conversion and comparison.\n",
        "\n",
        "input_Value = 45.6\n",
        "type(input_Value) "
      ],
      "execution_count": 42,
      "outputs": [
        {
          "output_type": "execute_result",
          "data": {
            "text/plain": [
              "float"
            ]
          },
          "metadata": {
            "tags": []
          },
          "execution_count": 42
        }
      ]
    },
    {
      "cell_type": "code",
      "metadata": {
        "colab": {
          "base_uri": "https://localhost:8080/"
        },
        "id": "nmNvzpxZgIEP",
        "outputId": "f581a51e-c8dd-45bc-e317-18388d701803"
      },
      "source": [
        "hello = float(input_Value)\n",
        "hello\n",
        "type(hello)"
      ],
      "execution_count": 44,
      "outputs": [
        {
          "output_type": "execute_result",
          "data": {
            "text/plain": [
              "float"
            ]
          },
          "metadata": {
            "tags": []
          },
          "execution_count": 44
        }
      ]
    },
    {
      "cell_type": "code",
      "metadata": {
        "colab": {
          "base_uri": "https://localhost:8080/"
        },
        "id": "Kg7j97-xgcXl",
        "outputId": "fd19a39a-6f90-4325-839d-89965d575aa0"
      },
      "source": [
        "# Double equal sign is also used for comparison\n",
        "10.0 == 10"
      ],
      "execution_count": 45,
      "outputs": [
        {
          "output_type": "execute_result",
          "data": {
            "text/plain": [
              "True"
            ]
          },
          "metadata": {
            "tags": []
          },
          "execution_count": 45
        }
      ]
    },
    {
      "cell_type": "code",
      "metadata": {
        "colab": {
          "base_uri": "https://localhost:8080/"
        },
        "id": "1dLICK6ggfRL",
        "outputId": "97c3b81a-49fb-4fa4-c0da-fec32851794a"
      },
      "source": [
        "# Comparison of two string variables. Note that all upper cases are smaller than lower\n",
        "# cases based on their ASCII code. \n",
        "'We are running away' > 'dog'"
      ],
      "execution_count": 51,
      "outputs": [
        {
          "output_type": "execute_result",
          "data": {
            "text/plain": [
              "False"
            ]
          },
          "metadata": {
            "tags": []
          },
          "execution_count": 51
        }
      ]
    },
    {
      "cell_type": "code",
      "metadata": {
        "colab": {
          "base_uri": "https://localhost:8080/"
        },
        "id": "cbvz1y67g-kQ",
        "outputId": "7bb157db-8062-4682-93b9-7a74871183fc"
      },
      "source": [
        "# Both condition #1 and condition #2 are True?\n",
        "3 < 4  and 7 < 8"
      ],
      "execution_count": 52,
      "outputs": [
        {
          "output_type": "execute_result",
          "data": {
            "text/plain": [
              "True"
            ]
          },
          "metadata": {
            "tags": []
          },
          "execution_count": 52
        }
      ]
    },
    {
      "cell_type": "code",
      "metadata": {
        "colab": {
          "base_uri": "https://localhost:8080/"
        },
        "id": "1-D5iOa9hBmw",
        "outputId": "bc06e410-d916-4109-8242-fa69a5e5111d"
      },
      "source": [
        "# Either condition 1 or condition 2 are True?\n",
        "3 > 4  or 7 > 8"
      ],
      "execution_count": 54,
      "outputs": [
        {
          "output_type": "execute_result",
          "data": {
            "text/plain": [
              "False"
            ]
          },
          "metadata": {
            "tags": []
          },
          "execution_count": 54
        }
      ]
    },
    {
      "cell_type": "code",
      "metadata": {
        "colab": {
          "base_uri": "https://localhost:8080/"
        },
        "id": "SG8r7-ERhF1_",
        "outputId": "0e4de5d2-dd8b-4973-a777-d7e7ede95e43"
      },
      "source": [
        "# Both conditional #1 and conditional #2 are False?\n",
        "not ((3 > 4) or (7 > 8))"
      ],
      "execution_count": 55,
      "outputs": [
        {
          "output_type": "execute_result",
          "data": {
            "text/plain": [
              "True"
            ]
          },
          "metadata": {
            "tags": []
          },
          "execution_count": 55
        }
      ]
    },
    {
      "cell_type": "code",
      "metadata": {
        "colab": {
          "base_uri": "https://localhost:8080/"
        },
        "id": "5l5XXBdmho0E",
        "outputId": "dd80c842-1a67-43a8-be67-0d8d3e209f56"
      },
      "source": [
        "# With %f, the format is right justification by default. \n",
        "# As a result, white spaces are added to the left of the number\n",
        "# 10.4 means minimal width 10 with 4 decimal points\n",
        "print('Output a float number: %6.9f' % (3.5))"
      ],
      "execution_count": 59,
      "outputs": [
        {
          "output_type": "stream",
          "text": [
            "Output a float number: 3.500000000\n"
          ],
          "name": "stdout"
        }
      ]
    },
    {
      "cell_type": "code",
      "metadata": {
        "colab": {
          "base_uri": "https://localhost:8080/"
        },
        "id": "KyZ04uJ9hrYL",
        "outputId": "08317b98-14f9-4198-9c6b-c2fceadd831c"
      },
      "source": [
        "# plus sign after % means to show positive sign\n",
        "# Zero after plus sign means using leading zero to fill width of 5\n",
        "print('Output an integer: %+05d' % (23))"
      ],
      "execution_count": 57,
      "outputs": [
        {
          "output_type": "stream",
          "text": [
            "Output an integer: +0023\n"
          ],
          "name": "stdout"
        }
      ]
    }
  ]
}